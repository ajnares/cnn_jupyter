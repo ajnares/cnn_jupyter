{
 "cells": [
  {
   "cell_type": "code",
   "execution_count": 1,
   "id": "5e365887",
   "metadata": {},
   "outputs": [],
   "source": [
    "from tensorflow.compat.v1 import ConfigProto\n",
    "from tensorflow.compat.v1 import InteractiveSession\n",
    "\n",
    "config = ConfigProto()\n",
    "config.gpu_options.per_process_gpu_memory_fraction = 0.5\n",
    "config.gpu_options.allow_growth = True\n",
    "session = InteractiveSession(config=config)"
   ]
  },
  {
   "cell_type": "code",
   "execution_count": 2,
   "id": "03749b0a",
   "metadata": {},
   "outputs": [],
   "source": [
    "import tensorflow as tf\n",
    "from tensorflow.keras.preprocessing.image import ImageDataGenerator"
   ]
  },
  {
   "cell_type": "code",
   "execution_count": 3,
   "id": "3fe6c919",
   "metadata": {},
   "outputs": [],
   "source": [
    "train_datagen = ImageDataGenerator(rescale = 1./255,\n",
    "                                  shear_range = 0.2,\n",
    "                                  zoom_range = 0.2,\n",
    "                                  horizontal_flip = True)"
   ]
  },
  {
   "cell_type": "code",
   "execution_count": 4,
   "id": "750da26a",
   "metadata": {},
   "outputs": [
    {
     "name": "stdout",
     "output_type": "stream",
     "text": [
      "Found 20348 images belonging to 4 classes.\n",
      "Found 10180 images belonging to 4 classes.\n"
     ]
    }
   ],
   "source": [
    "training_set = train_datagen.flow_from_directory('C:/Users/Admin/Desktop/school works/beans/data/train',\n",
    "                                                target_size= (64,64),\n",
    "                                                batch_size = 32,\n",
    "                                                class_mode = 'categorical')\n",
    "\n",
    "test_datagen = ImageDataGenerator(rescale = 1./255)\n",
    "test_set = test_datagen.flow_from_directory('C:/Users/Admin/Desktop/school works/beans/data/test',\n",
    "                                            target_size= (64,64),\n",
    "                                            batch_size = 32,\n",
    "                                            class_mode = 'categorical')"
   ]
  },
  {
   "cell_type": "code",
   "execution_count": 5,
   "id": "8902363c",
   "metadata": {},
   "outputs": [],
   "source": [
    "from tensorflow.keras.layers import Conv2D\n",
    "from tensorflow.keras.layers import Dense"
   ]
  },
  {
   "cell_type": "code",
   "execution_count": 6,
   "id": "72b76844",
   "metadata": {},
   "outputs": [],
   "source": [
    "cnn = tf.keras.models.Sequential()\n",
    "cnn.add(tf.keras.layers.Conv2D(filters=32, padding=\"same\", kernel_size=3, activation='relu', strides=2, input_shape=[64,64,3]))\n",
    "cnn.add(tf.keras.layers.MaxPool2D(pool_size=2,strides=2))\n",
    "cnn.add(tf.keras.layers.Flatten())\n",
    "cnn.add(tf.keras.layers.Dense(units=128, activation='relu'))\n",
    "cnn.add(Dense(4,activation='softmax'))\n",
    "\n",
    "cnn.compile(optimizer ='adam', loss='squared_hinge', metrics =['accuracy'])"
   ]
  },
  {
   "cell_type": "code",
   "execution_count": 7,
   "id": "b779f351",
   "metadata": {
    "scrolled": true
   },
   "outputs": [
    {
     "name": "stdout",
     "output_type": "stream",
     "text": [
      "Model: \"sequential\"\n",
      "_________________________________________________________________\n",
      " Layer (type)                Output Shape              Param #   \n",
      "=================================================================\n",
      " conv2d (Conv2D)             (None, 32, 32, 32)        896       \n",
      "                                                                 \n",
      " max_pooling2d (MaxPooling2D  (None, 16, 16, 32)       0         \n",
      " )                                                               \n",
      "                                                                 \n",
      " flatten (Flatten)           (None, 8192)              0         \n",
      "                                                                 \n",
      " dense (Dense)               (None, 128)               1048704   \n",
      "                                                                 \n",
      " dense_1 (Dense)             (None, 4)                 516       \n",
      "                                                                 \n",
      "=================================================================\n",
      "Total params: 1,050,116\n",
      "Trainable params: 1,050,116\n",
      "Non-trainable params: 0\n",
      "_________________________________________________________________\n"
     ]
    }
   ],
   "source": [
    "cnn.summary()"
   ]
  },
  {
   "cell_type": "code",
   "execution_count": 8,
   "id": "1f524068",
   "metadata": {},
   "outputs": [
    {
     "name": "stdout",
     "output_type": "stream",
     "text": [
      "Epoch 1/15\n",
      "636/636 [==============================] - 954s 1s/step - loss: 1.0103 - accuracy: 0.7402 - val_loss: 1.0440 - val_accuracy: 0.6797\n",
      "Epoch 2/15\n",
      "636/636 [==============================] - 915s 1s/step - loss: 0.8820 - accuracy: 0.8714 - val_loss: 1.0100 - val_accuracy: 0.7270\n",
      "Epoch 3/15\n",
      "636/636 [==============================] - 937s 1s/step - loss: 0.8514 - accuracy: 0.9011 - val_loss: 1.0220 - val_accuracy: 0.7139\n",
      "Epoch 4/15\n",
      "636/636 [==============================] - 870s 1s/step - loss: 0.8286 - accuracy: 0.9248 - val_loss: 1.0505 - val_accuracy: 0.6880\n",
      "Epoch 5/15\n",
      "636/636 [==============================] - 829s 1s/step - loss: 0.8081 - accuracy: 0.9473 - val_loss: 1.0421 - val_accuracy: 0.6923\n",
      "Epoch 6/15\n",
      "636/636 [==============================] - 813s 1s/step - loss: 0.8029 - accuracy: 0.9500 - val_loss: 1.0618 - val_accuracy: 0.6792\n",
      "Epoch 7/15\n",
      "636/636 [==============================] - 948s 1s/step - loss: 0.7941 - accuracy: 0.9593 - val_loss: 1.0658 - val_accuracy: 0.6706\n",
      "Epoch 8/15\n",
      "636/636 [==============================] - 855s 1s/step - loss: 0.7928 - accuracy: 0.9592 - val_loss: 1.0827 - val_accuracy: 0.6523\n",
      "Epoch 9/15\n",
      "636/636 [==============================] - 892s 1s/step - loss: 0.7910 - accuracy: 0.9608 - val_loss: 1.0711 - val_accuracy: 0.6697\n",
      "Epoch 10/15\n",
      "636/636 [==============================] - 891s 1s/step - loss: 0.7888 - accuracy: 0.9630 - val_loss: 1.0869 - val_accuracy: 0.6560\n",
      "Epoch 11/15\n",
      "636/636 [==============================] - 805s 1s/step - loss: 0.7848 - accuracy: 0.9663 - val_loss: 1.1048 - val_accuracy: 0.6311\n",
      "Epoch 12/15\n",
      "636/636 [==============================] - 793s 1s/step - loss: 0.7841 - accuracy: 0.9663 - val_loss: 1.0390 - val_accuracy: 0.6973\n",
      "Epoch 13/15\n",
      "636/636 [==============================] - 774s 1s/step - loss: 0.7822 - accuracy: 0.9684 - val_loss: 1.0640 - val_accuracy: 0.6690\n",
      "Epoch 14/15\n",
      "636/636 [==============================] - 774s 1s/step - loss: 0.7823 - accuracy: 0.9684 - val_loss: 1.0926 - val_accuracy: 0.6464\n",
      "Epoch 15/15\n",
      "636/636 [==============================] - 771s 1s/step - loss: 0.7819 - accuracy: 0.9686 - val_loss: 1.0708 - val_accuracy: 0.6764\n"
     ]
    }
   ],
   "source": [
    "cnn.compile(optimizer ='adam',  loss='squared_hinge', metrics =['accuracy'])\n",
    "r=cnn.fit(x = training_set,validation_data = test_set, epochs = 15)"
   ]
  },
  {
   "cell_type": "code",
   "execution_count": 9,
   "id": "e7c925c6",
   "metadata": {},
   "outputs": [
    {
     "data": {
      "image/png": "[encoded data removed]",
      "text/plain": [
       "<Figure size 432x288 with 1 Axes>"
      ]
     },
     "metadata": {
      "needs_background": "light"
     },
     "output_type": "display_data"
    },
    {
     "data": {
      "image/png": "[encoded data removed]",
      "text/plain": [
       "<Figure size 432x288 with 1 Axes>"
      ]
     },
     "metadata": {
      "needs_background": "light"
     },
     "output_type": "display_data"
    },
    {
     "data": {
      "text/plain": [
       "<Figure size 432x288 with 0 Axes>"
      ]
     },
     "metadata": {},
     "output_type": "display_data"
    }
   ],
   "source": [
    "import matplotlib.pyplot as plt\n",
    "plt.plot(r.history['loss'], label='train loss')\n",
    "plt.plot(r.history['val_loss'], label='val loss')\n",
    "plt.legend()\n",
    "plt.show()\n",
    "plt.savefig('LossVal_loss')\n",
    "\n",
    "# plot the accuracy\n",
    "plt.plot(r.history['accuracy'], label='train acc')\n",
    "plt.plot(r.history['val_accuracy'], label='val acc')\n",
    "plt.legend()\n",
    "plt.show()\n",
    "plt.savefig('AccVal_acc')"
   ]
  },
  {
   "cell_type": "code",
   "execution_count": 10,
   "id": "3c14c7ea",
   "metadata": {},
   "outputs": [],
   "source": [
    "from tensorflow.keras.models import load_model\n",
    "\n",
    "cnn.save('model_cnn_beans.h5')"
   ]
  },
  {
   "cell_type": "code",
   "execution_count": 12,
   "id": "eb75f0cf",
   "metadata": {},
   "outputs": [],
   "source": [
    "from tensorflow.keras.models import load_model\n",
    " \n",
    "# load model\n",
    "model = load_model('model_cnn_beans.h5')"
   ]
  },
  {
   "cell_type": "code",
   "execution_count": 13,
   "id": "627f4692",
   "metadata": {},
   "outputs": [
    {
     "name": "stdout",
     "output_type": "stream",
     "text": [
      "Model: \"sequential\"\n",
      "_________________________________________________________________\n",
      " Layer (type)                Output Shape              Param #   \n",
      "=================================================================\n",
      " conv2d (Conv2D)             (None, 32, 32, 32)        896       \n",
      "                                                                 \n",
      " max_pooling2d (MaxPooling2D  (None, 16, 16, 32)       0         \n",
      " )                                                               \n",
      "                                                                 \n",
      " flatten (Flatten)           (None, 8192)              0         \n",
      "                                                                 \n",
      " dense (Dense)               (None, 128)               1048704   \n",
      "                                                                 \n",
      " dense_1 (Dense)             (None, 4)                 516       \n",
      "                                                                 \n",
      "=================================================================\n",
      "Total params: 1,050,116\n",
      "Trainable params: 1,050,116\n",
      "Non-trainable params: 0\n",
      "_________________________________________________________________\n"
     ]
    }
   ],
   "source": [
    "model.summary()"
   ]
  },
  {
   "cell_type": "code",
   "execution_count": null,
   "id": "4fc9ab79",
   "metadata": {},
   "outputs": [],
   "source": []
  }
 ],
 "metadata": {
  "kernelspec": {
   "display_name": "Python 3 (ipykernel)",
   "language": "python",
   "name": "python3"
  },
  "language_info": {
   "codemirror_mode": {
    "name": "ipython",
    "version": 3
   },
   "file_extension": ".py",
   "mimetype": "text/x-python",
   "name": "python",
   "nbconvert_exporter": "python",
   "pygments_lexer": "ipython3",
   "version": "3.10.10"
  }
 },
 "nbformat": 4,
 "nbformat_minor": 5
}
